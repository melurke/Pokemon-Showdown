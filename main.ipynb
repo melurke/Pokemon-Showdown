{
 "cells": [
  {
   "cell_type": "code",
   "execution_count": null,
   "metadata": {},
   "outputs": [],
   "source": [
    "types = [\"BUG\", \"DARK\", \"DRAGON\", \"ELECTRIC\", \"FAIRY\", \"FIGHTING\", \"FIRE\", \"FLYING\", \"GHOST\", \"GRASS\", \"GROUND\", \"ICE\", \"NORMAL\", \"POISON\", \"PSYCHIC\", \"ROCK\", \"STEEL\", \"WATER\"]\n",
    "bug = [1, 2, 1, 1, 0.5, 0.5, 0.5, 0.5, 0.5, 2, 1, 1, 1, 0.5, 2, 1, 0.5, 1]\n",
    "dark = [1, 0.5, 1, 1, 0.5, 0.5, 1, 1, 2, 1, 1, 1, 1, 1, 2, 1, 1, 1]\n",
    "dragon = [1, 1, 2, 1, 0, 1, 1, 1, 1, 1, 1, 1, 1, 1, 1, 1, 0.5, 1]\n",
    "electric = [1, 1, 0.5, 0.5, 1, 1, 1, 2, 1, 0.5, 0, 1, 1, 1, 1, 1, 1, 2]\n",
    "fairy = [1, 2, 2, 1, 1, 2, 0.5, 1, 1, 1, 1, 1, 1, 0.5, 1, 1, 0.5, 1]\n",
    "fighting = [0.5, 2, 1, 1, 0.5, 1, 1, 0.5, 0, 1, 1, 2, 2, 0.5, 0.5, 2, 2, 1]\n",
    "fire = [2, 1, 0.5, 1, 1, 1, 0.5, 1, 1, 2, 1, 2, 1, 1, 1, 0.5, 2, 0.5]\n",
    "flying = [2, 1, 1, 0.5, 1, 2, 1, 1, 1, 2, 1, 1, 1, 1, 1, 0.5, 0.5, 1]\n",
    "ghost = [1, 0.5, 1, 1, 1, 1, 1, 1, 2, 1, 1, 1, 0, 1, 2, 1, 1, 1]\n",
    "grass = [0.5, 1, 0.5, 1, 1, 1, 0.5, 0.5, 1, 0.5, 2, 1, 1, 0.5, 1, 2, 0.5, 2]\n",
    "ground = [0.5, 1, 1, 2, 1, 1, 2, 0, 1, 0.5, 1, 1, 1, 2, 1, 2, 2, 1]\n",
    "ice = [1, 1, 2, 1, 1, 1, 0.5, 2, 1, 2, 2, 0.5, 1, 1, 1, 1, 0.5, 0.5]\n",
    "normal = [1, 1, 1, 1, 1, 1, 1, 1, 0, 1, 1, 1, 1, 1, 1, 0.5, 0.5, 1]\n",
    "poison = [1, 1, 1, 1, 2, 1, 1, 1, 0.5, 2, 0.5, 1, 1, 0.5, 1, 0.5, 0, 1]\n",
    "psychic = [1, 0, 1, 1, 1, 2, 1, 1, 1, 1, 1, 1, 1, 2, 0.5, 1, 0.5, 1]\n",
    "rock = [2, 1, 1, 1, 1, 0.5, 2, 2, 1, 1, 0.5, 2, 1, 1, 1, 1, 0.5, 1]\n",
    "steel = [1, 1, 1, 0.5, 2, 1, 0.5, 1, 1, 1, 1, 2, 1, 1, 1, 2, 0.5, 0.5]\n",
    "water = [1, 1, 0.5, 1, 1, 1, 2, 1, 1, 0.5, 2, 1, 1, 1, 1, 2, 1, 0.5]"
   ]
  },
  {
   "cell_type": "code",
   "execution_count": null,
   "metadata": {},
   "outputs": [],
   "source": [
    "def damage(attack, defense, stab, type, others, move_power):\n",
    "    base1 = 22*move_power*(attack/defense)\n",
    "    base = base1/50 + 2\n",
    "\n",
    "    damage = base * stab * type * others * 0.925\n",
    "\n",
    "    # others = weather, critical, burn, screens, effects, terrain\n",
    "\n",
    "    return damage"
   ]
  },
  {
   "cell_type": "code",
   "execution_count": null,
   "metadata": {},
   "outputs": [],
   "source": [
    "import ast\n",
    "\n",
    "file = open(\"data.txt\", \"r\")\n",
    "pokemon = file.readlines()\n",
    "file.close()\n",
    "\n",
    "for p in pokemon:\n",
    "    try:\n",
    "        p.replace(\"\\n\", \"\")\n",
    "    except:\n",
    "        pass\n",
    "\n",
    "for i in range(0, len(pokemon)):\n",
    "    pokemon[i] = ast.literal_eval(pokemon[i])\n",
    "\n",
    "name = input(\"Input your opposing pokemon: \")\n",
    "\n",
    "if not name in pokemon[:][0]:\n",
    "    type = input(\"Input the type(s) of the pokemon: \")\n",
    "    stats = input(\"Input the stats of the pokemon: \")\n",
    "\n",
    "    pokemon.append([name, ast.literal_eval(type), ast.literal_eval(stats)])\n",
    "else:\n",
    "    for p in range(0, len(pokemon)):\n",
    "        if pokemon[p][0] == name:\n",
    "            type = pokemon[p][1]\n",
    "            stats = pokemon[p][2]\n",
    "\n",
    "for p in range(0, len(pokemon)):\n",
    "    pokemon[p] = str(pokemon[p])\n",
    "    pokemon[p] += \"\\n\"\n",
    "\n",
    "print(pokemon)\n",
    "\n",
    "file = open(\"data.txt\",\"w\")\n",
    "file.writelines(pokemon)\n",
    "file.close()"
   ]
  }
 ],
 "metadata": {
  "interpreter": {
   "hash": "d2d4948b335cbc87eac295b3925bc773f1b3d0a3f6b1b6d2b08e8e05fd75d931"
  },
  "kernelspec": {
   "display_name": "Python 3.9.12 64-bit (windows store)",
   "language": "python",
   "name": "python3"
  },
  "language_info": {
   "codemirror_mode": {
    "name": "ipython",
    "version": 3
   },
   "file_extension": ".py",
   "mimetype": "text/x-python",
   "name": "python",
   "nbconvert_exporter": "python",
   "pygments_lexer": "ipython3",
   "version": "3.9.12"
  },
  "orig_nbformat": 4
 },
 "nbformat": 4,
 "nbformat_minor": 2
}
